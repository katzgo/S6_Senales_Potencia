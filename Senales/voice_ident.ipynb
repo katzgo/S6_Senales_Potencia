{
 "cells": [
  {
   "cell_type": "code",
   "execution_count": 73,
   "id": "ae093edc-f430-45ae-a5ee-945c3bf8d5de",
   "metadata": {
    "tags": []
   },
   "outputs": [],
   "source": [
    "# load some library needed and functions\n",
    "\n",
    "import os\n",
    "import json\n",
    "import sounddevice as sd\n",
    "import soundfile as sf\n",
    "import numpy as np\n",
    "import librosa\n",
    "import librosa.display\n",
    "import matplotlib.pyplot as plt\n",
    "import lbg\n"
   ]
  },
  {
   "cell_type": "markdown",
   "id": "b9d473ac",
   "metadata": {},
   "source": [
    "# Definition of Variables\n"
   ]
  },
  {
   "cell_type": "code",
   "execution_count": 74,
   "id": "0a9e796b",
   "metadata": {},
   "outputs": [],
   "source": [
    "# Audio constants\n",
    "duration_s = 2\n",
    "fs = 44100\n",
    "## Change variables for optimization \n",
    "# MFCC\n",
    "num_mfcc = 13\n",
    "frame_lenght = 1024\n",
    "hop_lenght = 512\n",
    "#Codebook\n",
    "cb_depth = 8\n",
    "thr = 8000\n",
    "#TODO threshold"
   ]
  },
  {
   "cell_type": "code",
   "execution_count": 75,
   "id": "c978bfc8",
   "metadata": {},
   "outputs": [],
   "source": [
    "def record_audio(seconds, user_name, entry):\n",
    "    fs = 44100  # Sampling frequency\n",
    "    duration = seconds  # Duration of recording in seconds\n",
    "    \n",
    "    \n",
    "    print(\"Recording...\")\n",
    "\n",
    "    \n",
    "    # Record audio from the microphone\n",
    "    audio = sd.rec(int(duration * fs), samplerate=fs, channels=1, dtype=np.float32)\n",
    "    sd.wait()\n",
    "\n",
    "    print(\"Finished recording.\")\n",
    "\n",
    "    if user_name:\n",
    "        filename = f\"voice_{user_name}_{entry}.wav\"\n",
    "        folder_path = os.path.join(os.getcwd(), 'Users_samples', user_name, filename)\n",
    "        # Save audio to file\n",
    "        sf.write(folder_path, audio, fs, subtype='PCM_24')\n",
    "        print(f\"Audio recorded and saved as {folder_path}\")\n",
    "    \n",
    "    \n",
    "    return audio, fs\n",
    "\n",
    "\n",
    "def extract_mfcc_file(audio_file, num_mfcc, frame_length, hop_length):\n",
    "    # Load audio file\n",
    "    y, sr = librosa.load(audio_file)\n",
    "\n",
    "    # Extract MFCCs\n",
    "    mfccs = librosa.feature.mfcc(y=y, sr=sr, n_mfcc=num_mfcc, n_fft=frame_length, hop_length=hop_length)\n",
    "\n",
    "    return mfccs\n",
    "\n",
    "def extract_mfcc(audio_waveform, sr, num_mfcc, frame_length, hop_length):\n",
    "    # Extract MFCCs\n",
    "    mfccs = librosa.feature.mfcc(y=audio_waveform, sr=sr, n_mfcc=num_mfcc, n_fft=frame_length, hop_length=hop_length)\n",
    "\n",
    "    return mfccs\n",
    "\n",
    "def calculate_distortion(sample_mfcc, codebook):\n",
    "    # Initialize total distortion\n",
    "    total_distortion = 0.0\n",
    "    \n",
    "    # Assign each sample MFCC to its nearest centroid in the codebook\n",
    "    nearest_centroids = np.argmin(np.linalg.norm(sample_mfcc[:, None, :] - codebook, axis=2), axis=1)\n",
    "    \n",
    "    # Calculate the Euclidean distance between each sample MFCC and its assigned centroid\n",
    "    for i, centroid_index in enumerate(nearest_centroids):\n",
    "        centroid = codebook[centroid_index]\n",
    "        distortion = np.linalg.norm(sample_mfcc[i] - centroid)\n",
    "        total_distortion += distortion\n",
    "        # for average distortion, divide the total by sample_mfcc.shape[0]\n",
    "    return total_distortion\n",
    "\n",
    "\n",
    "def create_user_folder(user_name):\n",
    "    # Create folder path\n",
    "    user_folder='Users_samples'\n",
    "    folder_path = os.path.join(os.getcwd(), user_folder, user_name)\n",
    "\n",
    "    # Check if folder exists\n",
    "    if not os.path.exists(folder_path):\n",
    "        # Create folder if it doesn't exist\n",
    "        os.makedirs(folder_path)\n",
    "        print(f\"Folder '{user_name}' created successfully.\")\n",
    "    else:\n",
    "        print(f\"Folder '{user_name}' already exists.\")\n",
    "    \n",
    "    file_count = len([name for name in os.listdir(folder_path) if os.path.isfile(os.path.join(folder_path, name))])\n",
    "    return file_count, folder_path\n",
    "\n",
    "def scale_number(unscaled, to_min, to_max, from_min, from_max):\n",
    "    return (to_max-to_min)*(unscaled-from_min)/(from_max-from_min)+to_min\n",
    "\n",
    "def scale_list(l, to_min, to_max):\n",
    "    return [scale_number(i, to_min, to_max, min(l), max(l)) for i in l]\n"
   ]
  },
  {
   "cell_type": "markdown",
   "id": "9d3de0b6",
   "metadata": {},
   "source": [
    "# Add users to database and create filesystem"
   ]
  },
  {
   "cell_type": "code",
   "execution_count": 76,
   "id": "14af393d",
   "metadata": {},
   "outputs": [],
   "source": [
    "# user_name = input(\"Enter your name: \")\n",
    "# entry, folder = create_user_folder(user_name)\n",
    "\n",
    "# audio_file, fs = record_audio(duration_s, user_name, entry+1)\n",
    "# audio = audio_file.reshape(-1)"
   ]
  },
  {
   "cell_type": "markdown",
   "id": "3f9d5d25",
   "metadata": {},
   "source": [
    "# Create codebooks"
   ]
  },
  {
   "cell_type": "code",
   "execution_count": 77,
   "id": "393ec439",
   "metadata": {},
   "outputs": [
    {
     "name": "stdout",
     "output_type": "stream",
     "text": [
      "Reading audio file: voice_Cesar_1.wav\n",
      "Reading audio file: voice_Cesar_2.wav\n",
      "Reading audio file: voice_Cesar_3.wav\n",
      "Reading audio file: voice_Cesar_4.wav\n",
      "Reading audio file: voice_Facundo_1.wav\n",
      "Reading audio file: voice_Facundo_2.wav\n",
      "Reading audio file: voice_Facundo_3.wav\n",
      "Reading audio file: voice_Facundo_4.wav\n",
      "Reading audio file: voice_Katia_1.wav\n",
      "Reading audio file: voice_Katia_2.wav\n",
      "Reading audio file: voice_Katia_3.wav\n",
      "Reading audio file: voice_Katia_4.wav\n",
      "Finished creating Codebook.\n"
     ]
    }
   ],
   "source": [
    "user_folder='Users_samples'\n",
    "users_folder= os.path.join(os.getcwd(), user_folder)\n",
    "\n",
    "codebook_folder_rel='Codebooks'\n",
    "codebook_folder= os.path.join(os.getcwd(), codebook_folder_rel)\n",
    "\n",
    "folder_names = [name for name in os.listdir(users_folder) if os.path.isdir(os.path.join(users_folder, name))]\n",
    "\n",
    "\n",
    "audio_per_user = {}\n",
    "mfccs_per_user = {}\n",
    "codebook_per_user = {}\n",
    "\n",
    "for folder_name in folder_names:\n",
    "    folder_path = os.path.join(users_folder, folder_name)\n",
    "    # Check if folder exists\n",
    "    if not os.path.exists(folder_path) or not os.path.isdir(folder_path):\n",
    "        print(f\"Folder '{folder_name}' does not exist or is not a directory. Skipping.\")\n",
    "        continue\n",
    "\n",
    "    # Read audio files in the folder\n",
    "    concatenated_audio = []\n",
    "    for filename in os.listdir(folder_path):\n",
    "        file_path = os.path.join(folder_path, filename)\n",
    "\n",
    "        # Check if file is an audio file\n",
    "        if filename.endswith('.wav') or filename.endswith('.mp3'):\n",
    "            print(f\"Reading audio file: {filename}\")\n",
    "            audio, sr = librosa.load(file_path, sr=fs)\n",
    "            normalized_audio = audio / np.max(np.abs(audio))\n",
    "            concatenated_audio.extend(audio)\n",
    "\n",
    "\n",
    "    audio_per_user[folder_name] = concatenated_audio\n",
    "  \n",
    "for user in audio_per_user:\n",
    "    num_mfcc = num_mfcc  # Number of MFCC coefficients, global variable\n",
    "    frame_length = frame_lenght  # Frame length for STFT\n",
    "    hop_length = hop_lenght  # Hop length for STFT\n",
    "    audio_user=np.array(audio_per_user[user])\n",
    "    \n",
    "    mfccs_per_user[user] = extract_mfcc(audio_user, fs, num_mfcc, frame_length, hop_length)\n",
    "    cb, cb_abs_w, cb_rel_w = lbg.generate_codebook(mfccs_per_user[user].T, cb_depth)\n",
    "    codebook_per_user[user] = cb\n",
    "    \n",
    "with open(os.path.join(codebook_folder, 'Codebook'), 'w') as f:\n",
    "    json.dump(codebook_per_user, f)  \n",
    "    \n",
    "print(\"Finished creating Codebook.\")    "
   ]
  },
  {
   "cell_type": "markdown",
   "id": "10c07cb3",
   "metadata": {},
   "source": [
    "# Read the codebook and identify speaker"
   ]
  },
  {
   "cell_type": "code",
   "execution_count": 78,
   "id": "35070fd8",
   "metadata": {},
   "outputs": [],
   "source": [
    "## MODIFICATIONS FOR TESTING\n",
    "sample_folder_rel='Sample'\n",
    "sample_folder= os.path.join(os.getcwd(), sample_folder_rel)\n",
    "sample_filename_rel='sample2.wav'\n",
    "sample_path= os.path.join(sample_folder, sample_filename_rel)\n",
    "# Read audio\n",
    "audio_file, sr = librosa.load(sample_path, sr=fs)\n",
    "\n",
    "# ## MODIFICATIONS FOR TESTING\n",
    "# sample_folder_rel='Users_samples'\n",
    "# sample_folder= os.path.join(os.getcwd(), sample_folder_rel)\n",
    "# sample_filename_rel='Cesar'\n",
    "# sample_folder= os.path.join(sample_folder, sample_filename_rel)\n",
    "# sample_filename_rel='voice_Cesar_1.wav'\n",
    "# sample_path= os.path.join(sample_folder, sample_filename_rel)\n",
    "# # Read audio\n",
    "# audio_file, sr = librosa.load(sample_path, sr=fs)"
   ]
  },
  {
   "cell_type": "code",
   "execution_count": 79,
   "id": "c5803e66",
   "metadata": {},
   "outputs": [
    {
     "name": "stdout",
     "output_type": "stream",
     "text": [
      "Loading Codebook ... \n",
      "User\tDistortion\n",
      "----------------\n",
      "Cesar\t11541.01713340263\n",
      "Facundo\t14896.239072802297\n",
      "Katia\t9811.867214243302\n"
     ]
    }
   ],
   "source": [
    "\n",
    "# entry = input(\"Press a key to enter a voice sample for identification: \")\n",
    "# audio_file, fs = record_audio(2, \"\", \"\")\n",
    "\n",
    "audio = audio_file.reshape(-1)\n",
    "\n",
    "num_mfcc = num_mfcc  # Number of MFCC coefficients\n",
    "frame_length = frame_lenght  # Frame length for STFT\n",
    "hop_length = hop_lenght  # Hop length for STFT\n",
    "\n",
    "mfccs = extract_mfcc(audio, fs, num_mfcc, frame_length, hop_length)\n",
    "\n",
    "print(\"Loading Codebook ... \")\n",
    "\n",
    "with open(os.path.join(codebook_folder, 'Codebook'), 'r') as f:\n",
    "        stored_codebook = json.load(f)\n",
    "\n",
    "# calculate distortions\n",
    "\n",
    "print(\"User\\tDistortion\")\n",
    "print(\"----------------\")\n",
    "for user, cb in stored_codebook.items():\n",
    "    distortion = calculate_distortion(mfccs.T, cb)\n",
    "    print(f\"{user}\\t{distortion}\")\n",
    "    \n",
    "\n"
   ]
  },
  {
   "cell_type": "code",
   "execution_count": 80,
   "id": "92bc33fe",
   "metadata": {},
   "outputs": [],
   "source": [
    "# sample_filenames = ['sample1.wav', 'sample2.wav', 'sample3.wav', 'sample4.wav']\n",
    "# sample_folder_rel='Sample'\n",
    "# sample_folder= os.path.join(os.getcwd(), sample_folder_rel)\n",
    "# print(f\"mfcc\\t{num_mfcc}\")\n",
    "# print(f\"codebook depth\\t{cb_depth}\")\n",
    "# print(\"----------------\")\n",
    "# print(\"----------------\")\n",
    "# for filename in sample_filenames:\n",
    "\n",
    "#     sample_path= os.path.join(sample_folder, filename)\n",
    "#     audio_file, sr = librosa.load(sample_path, sr=fs)\n",
    "#     print(filename)\n",
    "#     # entry = input(\"Press a key to enter a voice sample for identification: \")\n",
    "#     # audio_file, fs = record_audio(2, \"\", \"\")\n",
    "\n",
    "#     audio = audio_file.reshape(-1)\n",
    "\n",
    "#     num_mfcc = num_mfcc  # Number of MFCC coefficients\n",
    "#     frame_length = frame_lenght  # Frame length for STFT\n",
    "#     hop_length = hop_lenght  # Hop length for STFT\n",
    "\n",
    "#     mfccs = extract_mfcc(audio, fs, num_mfcc, frame_length, hop_length)\n",
    "\n",
    "#     print(\"Loading Codebook ... \")\n",
    "\n",
    "#     with open(os.path.join(codebook_folder, 'Codebook'), 'r') as f:\n",
    "#             stored_codebook = json.load(f)\n",
    "\n",
    "#     # calculate distortions\n",
    "\n",
    "#     print(\"User\\tDistortion\")\n",
    "#     print(\"----------------\")\n",
    "#     for user, cb in stored_codebook.items():\n",
    "#         distortion = calculate_distortion(mfccs.T, cb)\n",
    "#         print(f\"{user}\\t{distortion}\")\n",
    "\n",
    "#     print(\"----------------\")\n",
    "#     print(\"----------------\")\n",
    "#     print(\"----------------\")    \n",
    "    "
   ]
  },
  {
   "cell_type": "markdown",
   "id": "c32d0ac6",
   "metadata": {},
   "source": [
    "# Plot the features and centroids"
   ]
  },
  {
   "cell_type": "code",
   "execution_count": 81,
   "id": "6bc88abd",
   "metadata": {},
   "outputs": [
    {
     "data": {
      "image/png": "[encoded data removed]",
      "text/plain": [
       "<Figure size 1200x800 with 1 Axes>"
      ]
     },
     "metadata": {},
     "output_type": "display_data"
    }
   ],
   "source": [
    "feature1_idx = 1  \n",
    "feature2_idx = 2\n",
    "\n",
    "plt.figure(figsize=(12, 8)) \n",
    "\n",
    "for user, sample_mfcc in mfccs_per_user.items():\n",
    "    # Plot MFCC\n",
    "    #plt.scatter(sample_mfcc[feature1_idx,:], sample_mfcc[feature2_idx,:], label=user)\n",
    "    # Plot centroid\n",
    "    cb_stored=np.array(stored_codebook[user])\n",
    "    plt.scatter(cb_stored[:,feature1_idx], cb_stored[:,feature2_idx], label=f'Centroid of {user}', marker='x')\n",
    "   \n",
    "plt.xlabel(f'Feature {feature1_idx+1}')\n",
    "plt.ylabel(f'Feature {feature2_idx+1}')\n",
    "plt.title(f'MFCC and Centroid')\n",
    "plt.legend()\n",
    "plt.grid(True)\n",
    "plt.show()\n",
    "    \n",
    "    "
   ]
  }
 ],
 "metadata": {
  "kernelspec": {
   "display_name": "Python 3 (ipykernel)",
   "language": "python",
   "name": "python3"
  },
  "language_info": {
   "codemirror_mode": {
    "name": "ipython",
    "version": 3
   },
   "file_extension": ".py",
   "mimetype": "text/x-python",
   "name": "python",
   "nbconvert_exporter": "python",
   "pygments_lexer": "ipython3",
   "version": "3.11.9"
  }
 },
 "nbformat": 4,
 "nbformat_minor": 5
}
