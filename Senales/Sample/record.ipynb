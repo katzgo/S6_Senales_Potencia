{
 "cells": [
  {
   "cell_type": "code",
   "execution_count": 2,
   "metadata": {},
   "outputs": [
    {
     "name": "stdout",
     "output_type": "stream",
     "text": [
      "Recording...\n",
      "Finished recording.\n",
      "Audio recorded and saved as c:\\DocumentsGithub\\6toSemestreRepos\\S6_Senales_Potencia\\Senales\\Sample\\Katia_0.wav\n",
      "Recording...\n",
      "Finished recording.\n",
      "Audio recorded and saved as c:\\DocumentsGithub\\6toSemestreRepos\\S6_Senales_Potencia\\Senales\\Sample\\Katia_1.wav\n",
      "Recording...\n",
      "Finished recording.\n",
      "Audio recorded and saved as c:\\DocumentsGithub\\6toSemestreRepos\\S6_Senales_Potencia\\Senales\\Sample\\Katia_2.wav\n",
      "Recording...\n",
      "Finished recording.\n",
      "Audio recorded and saved as c:\\DocumentsGithub\\6toSemestreRepos\\S6_Senales_Potencia\\Senales\\Sample\\Katia_3.wav\n",
      "Recording...\n",
      "Finished recording.\n",
      "Audio recorded and saved as c:\\DocumentsGithub\\6toSemestreRepos\\S6_Senales_Potencia\\Senales\\Sample\\Katia_4.wav\n",
      "Recording...\n",
      "Finished recording.\n",
      "Audio recorded and saved as c:\\DocumentsGithub\\6toSemestreRepos\\S6_Senales_Potencia\\Senales\\Sample\\Katia_5.wav\n",
      "Recording...\n",
      "Finished recording.\n",
      "Audio recorded and saved as c:\\DocumentsGithub\\6toSemestreRepos\\S6_Senales_Potencia\\Senales\\Sample\\Katia_6.wav\n",
      "Recording...\n",
      "Finished recording.\n",
      "Audio recorded and saved as c:\\DocumentsGithub\\6toSemestreRepos\\S6_Senales_Potencia\\Senales\\Sample\\Katia_7.wav\n",
      "Recording...\n",
      "Finished recording.\n",
      "Audio recorded and saved as c:\\DocumentsGithub\\6toSemestreRepos\\S6_Senales_Potencia\\Senales\\Sample\\Katia_8.wav\n",
      "Recording...\n",
      "Finished recording.\n",
      "Audio recorded and saved as c:\\DocumentsGithub\\6toSemestreRepos\\S6_Senales_Potencia\\Senales\\Sample\\Katia_9.wav\n"
     ]
    }
   ],
   "source": [
    "import os\n",
    "import sounddevice as sd\n",
    "import soundfile as sf\n",
    "import numpy as np\n",
    "\n",
    "\n",
    "fs = 44100  # Sampling frequency\n",
    "duration = 2  # Duration of recording in seconds\n",
    "user = input()\n",
    "c=0\n",
    "while c <10:\n",
    "    input()\n",
    "    print(\"Recording...\")\n",
    "\n",
    "    # Record audio from the microphone\n",
    "    audio = sd.rec(int(duration * fs), samplerate=fs, channels=1, dtype=np.float32)\n",
    "    sd.wait()\n",
    "\n",
    "    print(\"Finished recording.\")\n",
    "\n",
    "    filename = f\"{user}_{c}.wav\"\n",
    "    folder_path = os.path.join(os.getcwd(), filename)\n",
    "    # Save audio to file\n",
    "    sf.write(folder_path, audio, fs, subtype='PCM_24')\n",
    "    print(f\"Audio recorded and saved as {folder_path}\")\n",
    "    c+=1"
   ]
  },
  {
   "cell_type": "code",
   "execution_count": 1,
   "metadata": {},
   "outputs": [
    {
     "name": "stdout",
     "output_type": "stream",
     "text": [
      "['Katia_0.wav', 'Katia_1.wav', 'Katia_2.wav', 'Katia_3.wav', 'Katia_4.wav', 'Katia_5.wav', 'Katia_6.wav', 'Katia_7.wav', 'Katia_8.wav', 'Katia_9.wav', 'Katia_10.wav', 'Katia_11.wav', 'Katia_12.wav', 'Katia_13.wav', 'Katia_14.wav', 'Katia_15.wav', 'Katia_16.wav', 'Katia_17.wav', 'Katia_18.wav', 'Katia_19.wav']\n",
      "['Facundo_0.wav', 'Facundo_1.wav', 'Facundo_2.wav', 'Facundo_3.wav', 'Facundo_4.wav', 'Facundo_5.wav', 'Facundo_6.wav', 'Facundo_7.wav', 'Facundo_8.wav', 'Facundo_9.wav']\n",
      "['Cesar_0.wav', 'Cesar_1.wav', 'Cesar_2.wav', 'Cesar_3.wav', 'Cesar_4.wav', 'Cesar_5.wav', 'Cesar_6.wav', 'Cesar_7.wav', 'Cesar_8.wav', 'Cesar_9.wav', 'Cesar_10.wav', 'Cesar_11.wav', 'Cesar_12.wav', 'Cesar_13.wav', 'Cesar_14.wav', 'Cesar_15.wav', 'Cesar_16.wav', 'Cesar_17.wav', 'Cesar_18.wav', 'Cesar_19.wav']\n",
      "['Alanny_0.wav', 'Alanny_1.wav', 'Alanny_2.wav', 'Alanny_3.wav', 'Alanny_4.wav', 'Alanny_5.wav', 'Alanny_6.wav', 'Alanny_7.wav', 'Alanny_8.wav', 'Alanny_9.wav']\n",
      "[['Katia_0.wav', 'Katia_1.wav', 'Katia_2.wav', 'Katia_3.wav', 'Katia_4.wav', 'Katia_5.wav', 'Katia_6.wav', 'Katia_7.wav', 'Katia_8.wav', 'Katia_9.wav', 'Katia_10.wav', 'Katia_11.wav', 'Katia_12.wav', 'Katia_13.wav', 'Katia_14.wav', 'Katia_15.wav', 'Katia_16.wav', 'Katia_17.wav', 'Katia_18.wav', 'Katia_19.wav'], ['Facundo_0.wav', 'Facundo_1.wav', 'Facundo_2.wav', 'Facundo_3.wav', 'Facundo_4.wav', 'Facundo_5.wav', 'Facundo_6.wav', 'Facundo_7.wav', 'Facundo_8.wav', 'Facundo_9.wav'], ['Cesar_0.wav', 'Cesar_1.wav', 'Cesar_2.wav', 'Cesar_3.wav', 'Cesar_4.wav', 'Cesar_5.wav', 'Cesar_6.wav', 'Cesar_7.wav', 'Cesar_8.wav', 'Cesar_9.wav', 'Cesar_10.wav', 'Cesar_11.wav', 'Cesar_12.wav', 'Cesar_13.wav', 'Cesar_14.wav', 'Cesar_15.wav', 'Cesar_16.wav', 'Cesar_17.wav', 'Cesar_18.wav', 'Cesar_19.wav'], ['Alanny_0.wav', 'Alanny_1.wav', 'Alanny_2.wav', 'Alanny_3.wav', 'Alanny_4.wav', 'Alanny_5.wav', 'Alanny_6.wav', 'Alanny_7.wav', 'Alanny_8.wav', 'Alanny_9.wav']]\n"
     ]
    }
   ],
   "source": [
    "audiosK = []\n",
    "audiosF = []\n",
    "audiosC = []\n",
    "audiosA = []\n",
    "audios = []\n",
    "i=0\n",
    "while i<10:\n",
    "    audiosF.append(f'Facundo_{i}.wav')\n",
    "    audiosA.append(f'Alanny_{i}.wav')\n",
    "    i+=1\n",
    "i=0\n",
    "while i<20:\n",
    "    audiosK.append(f'Katia_{i}.wav')\n",
    "    audiosC.append(f'Cesar_{i}.wav')\n",
    "\n",
    "    i+=1\n",
    "print(audiosK)\n",
    "print(audiosF)\n",
    "print(audiosC)\n",
    "print(audiosA)\n",
    "audios.append(audiosK)\n",
    "audios.append(audiosF)\n",
    "audios.append(audiosC)\n",
    "audios.append(audiosA)\n",
    "print(audios)"
   ]
  }
 ],
 "metadata": {
  "kernelspec": {
   "display_name": "Python 3",
   "language": "python",
   "name": "python3"
  },
  "language_info": {
   "codemirror_mode": {
    "name": "ipython",
    "version": 3
   },
   "file_extension": ".py",
   "mimetype": "text/x-python",
   "name": "python",
   "nbconvert_exporter": "python",
   "pygments_lexer": "ipython3",
   "version": "3.11.9"
  }
 },
 "nbformat": 4,
 "nbformat_minor": 2
}
