{
 "cells": [
  {
   "cell_type": "code",
   "execution_count": 1,
   "metadata": {},
   "outputs": [
    {
     "name": "stdout",
     "output_type": "stream",
     "text": [
      "Recording...\n",
      "Finished recording.\n",
      "Audio recorded and saved as c:\\DocumentsGithub\\6toSemestreRepos\\S6_Senales_Potencia\\Senales\\Katia.wav\n"
     ]
    }
   ],
   "source": [
    "import os\n",
    "import sounddevice as sd\n",
    "import soundfile as sf\n",
    "import numpy as np\n",
    "\n",
    "fs = 44100  # Sampling frequency\n",
    "duration = 2  # Duration of recording in seconds\n",
    "input()\n",
    "print(\"Recording...\")\n",
    "\n",
    "# Record audio from the microphone\n",
    "audio = sd.rec(int(duration * fs), samplerate=fs, channels=1, dtype=np.float32)\n",
    "sd.wait()\n",
    "\n",
    "print(\"Finished recording.\")\n",
    "\n",
    "filename = f\"Katia.wav\"\n",
    "folder_path = os.path.join(os.getcwd(), filename)\n",
    "# Save audio to file\n",
    "sf.write(folder_path, audio, fs, subtype='PCM_24')\n",
    "print(f\"Audio recorded and saved as {folder_path}\")"
   ]
  }
 ],
 "metadata": {
  "kernelspec": {
   "display_name": "Python 3",
   "language": "python",
   "name": "python3"
  },
  "language_info": {
   "codemirror_mode": {
    "name": "ipython",
    "version": 3
   },
   "file_extension": ".py",
   "mimetype": "text/x-python",
   "name": "python",
   "nbconvert_exporter": "python",
   "pygments_lexer": "ipython3",
   "version": "3.11.9"
  }
 },
 "nbformat": 4,
 "nbformat_minor": 2
}
